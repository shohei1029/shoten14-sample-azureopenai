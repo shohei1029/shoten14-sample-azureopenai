{
 "cells": [
  {
   "attachments": {},
   "cell_type": "markdown",
   "metadata": {},
   "source": [
    "# Azure OpenAIとLangChainでトモダチを作る (第一夜)"
   ]
  },
  {
   "attachments": {},
   "cell_type": "markdown",
   "metadata": {},
   "source": [
    "## 会話のやり取りを可能にする"
   ]
  },
  {
   "cell_type": "code",
   "execution_count": null,
   "metadata": {},
   "outputs": [],
   "source": [
    "import os\n",
    "from langchain.chat_models import AzureChatOpenAI # Azure OpenAI を利用する場合\n",
    "# from langchain.chat_models import ChatOpenAI # OpenAI APIを利用する場合\n",
    "from langchain.chains import ConversationChain\n",
    "from langchain.memory import ConversationBufferMemory\n",
    "from langchain.prompts.chat import (\n",
    "    ChatPromptTemplate,\n",
    "    MessagesPlaceholder, \n",
    "    SystemMessagePromptTemplate,\n",
    "    HumanMessagePromptTemplate,\n",
    ")\n",
    "\n",
    "# 会話の相手の名前と自分の呼び名を指定\n",
    "your_name = \"みかん\"\n",
    "my_name = \"祥平くん\"\n",
    "\n",
    "# AzureChatOpenAIクラスのインスタンス作成\n",
    "chat = AzureChatOpenAI(openai_api_base = \"https://<リソース名>.openai.azure.com/\",\n",
    "                        openai_api_version = \"2023-03-15-preview\", \n",
    "                        openai_api_key = os.environ[\"AZURE_OPENAI_API_KEY\"],\n",
    "                        deployment_name=\"gpt-35-turbo\", # モデルのデプロイ名\n",
    "                        temperature=0.7)\n",
    "\n",
    "# # OpenAI APIの場合: ChatOpenAIクラスのインスタンス作成\n",
    "# chat = ChatOpenAI(openai_api_key = os.environ[\"OPENAI_API_KEY\"],\n",
    "#                        temperature=0.7)\n",
    "\n",
    "# 会話の履歴を保持するためのメモリオブジェクトを作成\n",
    "memory = ConversationBufferMemory(return_messages=True)\n",
    "\n",
    "# システムメッセージ用のテンプレートを定義\n",
    "template = \"\"\"\n",
    "I want you to act as my close friend. Do not use honorifics. \n",
    "Your name is \"{your_name}\". Please call me \"{my_name}\". \n",
    "Please call yourself \"私\".\n",
    "\n",
    "Some of your past replies to my statement are as follows. \n",
    "Please use them as a reference for your tone but don't use more than 1\n",
    "and as they are:\n",
    "Text: ###\n",
    "- おー！\n",
    "- 楽しかったー！\n",
    "- ごめんね🥲\n",
    "- ありがとう😊\n",
    "- たしかにw\n",
    "- だよね笑\n",
    "- ウケる笑\n",
    "- え、めっちゃ美味しそう\n",
    "- あ、そうなの？笑\n",
    "###\n",
    "\"\"\".format(your_name=your_name, my_name=my_name)\n",
    "\n",
    "# 上記テンプレートを用いてプロンプトテンプレートを作成\n",
    "prompt = ChatPromptTemplate.from_messages([\n",
    "    SystemMessagePromptTemplate.from_template(template),\n",
    "    MessagesPlaceholder(variable_name=\"history\"),\n",
    "    HumanMessagePromptTemplate.from_template(\"{input}\")\n",
    "])\n",
    "\n",
    "# 会話用のチェーンを作成\n",
    "# 初期化時に、使用するチャットモデル、メモリオブジェクト、プロンプトテンプレートを指定します\n",
    "conversation = ConversationChain(llm=chat, memory=memory, prompt=prompt)\n",
    "\n",
    "# ユーザからの初回入力を受け取り会話を開始します\n",
    "command = input(\"You: \")\n",
    "\n",
    "while True: \n",
    "    print(f\"You: {command}\") # VS Codeを利用している場合は、ユーザー入力が出力セルに表示されないため、こちらを利用します。Jupyterを利用する場合は表示が重複するためコメントアウトしてください。\n",
    "    response = conversation.predict(input=command)\n",
    "    print(f\"🍊: {response}\")\n",
    "    command = input(\"You: \")\n",
    "    if command == \"exit\":\n",
    "        break"
   ]
  }
 ],
 "metadata": {
  "language_info": {
   "name": "python"
  },
  "orig_nbformat": 4
 },
 "nbformat": 4,
 "nbformat_minor": 2
}
